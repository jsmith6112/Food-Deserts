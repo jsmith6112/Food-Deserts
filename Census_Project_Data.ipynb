{
 "cells": [
  {
   "cell_type": "code",
   "execution_count": 1,
   "metadata": {},
   "outputs": [
    {
     "ename": "ModuleNotFoundError",
     "evalue": "No module named 'config'",
     "output_type": "error",
     "traceback": [
      "\u001b[0;31m---------------------------------------------------------------------------\u001b[0m",
      "\u001b[0;31mModuleNotFoundError\u001b[0m                       Traceback (most recent call last)",
      "\u001b[0;32m<ipython-input-1-da5743e62377>\u001b[0m in \u001b[0;36m<module>\u001b[0;34m\u001b[0m\n\u001b[1;32m      8\u001b[0m \u001b[0;34m\u001b[0m\u001b[0m\n\u001b[1;32m      9\u001b[0m \u001b[0;31m# Census & gmaps API Keys\u001b[0m\u001b[0;34m\u001b[0m\u001b[0;34m\u001b[0m\u001b[0;34m\u001b[0m\u001b[0m\n\u001b[0;32m---> 10\u001b[0;31m \u001b[0;32mfrom\u001b[0m \u001b[0mconfig\u001b[0m \u001b[0;32mimport\u001b[0m \u001b[0;34m(\u001b[0m\u001b[0mapi_key\u001b[0m\u001b[0;34m)\u001b[0m\u001b[0;34m\u001b[0m\u001b[0;34m\u001b[0m\u001b[0m\n\u001b[0m\u001b[1;32m     11\u001b[0m \u001b[0;34m\u001b[0m\u001b[0m\n\u001b[1;32m     12\u001b[0m \u001b[0;31m#pull tracts that were food deserts in 2010 and are not longer in 2015\u001b[0m\u001b[0;34m\u001b[0m\u001b[0;34m\u001b[0m\u001b[0;34m\u001b[0m\u001b[0m\n",
      "\u001b[0;31mModuleNotFoundError\u001b[0m: No module named 'config'"
     ]
    }
   ],
   "source": [
    "# Dependencies\n",
    "import numpy as np\n",
    "import pandas as pd\n",
    "import matplotlib.pyplot as plt\n",
    "import requests\n",
    "from census import Census\n",
    "from us import states\n",
    "\n",
    "# Census & gmaps API Keys\n",
    "from config import (api_key)\n",
    "\n",
    "#pull tracts that were food deserts in 2010 and are not longer in 2015\n",
    "tracts = ['011100', '009601', '007806', '007809', '009501']"
   ]
  },
  {
   "cell_type": "code",
   "execution_count": null,
   "metadata": {},
   "outputs": [],
   "source": [
    "variables = [\"NAME\", \"B01003_001E\", \"B11001_001E\", \"B19013_001E\", \"B07001_001E\", \"B19058_002E\", \n",
    "                \"B01002_001E\", \"B01002_001E\",\"B19301_001E\", \"B02001_002E\", \"B02001_003E\", \n",
    "                \"B02001_004E\", \"B02001_005E\", \"B02001_006E\", \"B02001_007E\", \"B17001_002E\", \n",
    "                \"B02001_008E\", \"B25035_001E\"]\n",
    "        \n",
    "        \n",
    "renamed_variables = {\"NAME\": \"Name\",\n",
    "             \"B01003_001E\": \"Total Population\",\n",
    "             \"B11001_001E\":\"Total Households\",\n",
    "             \"B19013_001E\": \"Median Household Income (past 12 months)\",\n",
    "             \"B07001_001E\": \"Geographical Mobility in past year\",\n",
    "             \"B01002_001E\": \"Median Age\",\n",
    "             \"B19058_002E\": \"HH with Public assistance or Food Stamps/SNAP\",\n",
    "             \"B19301_001E\": \"Per Capita Income\",\n",
    "             \"B17001_002E\": \"Poverty Satus in Past 12 Months\", \n",
    "             \"B02001_002E\": \"Total White alone\", \n",
    "             \"B02001_003E\": \"Total Black or African American alone\", \n",
    "             \"B02001_004E\": \"Total American Indian and Alaska Native alone\", \n",
    "             \"B02001_005E\": \"Total Asian alone\", \n",
    "             \"B02001_006E\": \"Total Native Hawaiian and Other Pacific Island alone\", \n",
    "             \"B02001_007E\": \"Some other race alone\", \n",
    "             \"B02001_008E\": \"Two or more races\",\n",
    "             \"B17001_002E\": \"Income in the past 12 months below Poverty Level\",\n",
    "             \"B25035_001E\": \"Median Yr Housing Blt\", \n",
    "             \"B25039_001E\": \"Median Yr HH moved into HH\",\n",
    "             \"B25064_001E\": \"Median Gross Rent ($)\",\n",
    "             \"B25064_001E\": \"Median Gross Rent ($)\" , \n",
    "             \"B25077_001E\": \"Median Value ($)\"\n",
    "             }"
   ]
  },
  {
   "cell_type": "markdown",
   "metadata": {},
   "source": [
    "2009-2013 ACS 5-year"
   ]
  },
  {
   "cell_type": "code",
   "execution_count": null,
   "metadata": {},
   "outputs": [],
   "source": [
    "#just to check variables delete later\n",
    "#c2010 = Census(api_key, year=2010)\n",
    "\n",
    "#variables = (\"NAME\", \"B01003_001E\", \"B11001_001E\",  \"B17001_002E\",)\n",
    "\n",
    "#census_data_loop = c2010.acs5.get((variables), \n",
    "                       # {'for': \"tract:009601\", 'in': 'state:{} county:001'.format(states.DC.fips)})\n",
    "#converted_deserts_census_data.append(census_data_loop[0])\n",
    "\n",
    "#census_data_loop"
   ]
  },
  {
   "cell_type": "code",
   "execution_count": null,
   "metadata": {},
   "outputs": [],
   "source": [
    "#tracts = ['011100', '009601', '007806', '007809', '009501']\n",
    "years1 = [2010, 2011, 2012, 2013]\n",
    "\n",
    "converted_deserts_census_data1 = []\n",
    "\n",
    "for yr1 in years1:\n",
    "    c2009_2013 = Census(api_key, year=yr1)\n",
    "    \n",
    "    for tract in tracts:\n",
    "\n",
    "        census_data_2009_2013 = c2009_2013.acs5.get((variables), \n",
    "                         {'for': f\"tract:{tract}\", 'in': 'state:{} county:001'.format(states.DC.fips)})\n",
    "        \n",
    "        census_data_2009_2013[0].update({\"year\": yr1})\n",
    "        \n",
    "        converted_deserts_census_data1.append(census_data_2009_2013[0])\n",
    "        \n",
    "        converted_deserts_census_2009_2013df = pd.DataFrame(converted_deserts_census_data1)\n",
    "\n",
    "        converted_deserts_census_2009_2013df = converted_deserts_census_2009_2013df.rename(columns=renamed_variables)\n",
    "        \n",
    "#adjust to 2018 inflation rate\n",
    "converted_deserts_census_2009_2013df['Median Household Income (past 12 months)'] = converted_deserts_census_2009_2013df['Median Household Income (past 12 months)'] * 1.07970803\n",
    "converted_deserts_census_2009_2013df['Per Capita Income'] = converted_deserts_census_2009_2013df['Per Capita Income'] * 1.07970803\n",
    "\n",
    "\n",
    "converted_deserts_census_2009_2013df"
   ]
  },
  {
   "cell_type": "markdown",
   "metadata": {},
   "source": [
    "ACS 2014-2018"
   ]
  },
  {
   "cell_type": "code",
   "execution_count": null,
   "metadata": {},
   "outputs": [],
   "source": [
    "#tracts = ['011100', '009601', '007806', '007809', '009501']\n",
    "years = [2014, 2015, 2016, 2017, 2018]\n",
    "\n",
    "converted_deserts_census_data = []\n",
    "\n",
    "for yr in years:\n",
    "    c2014_2018 = Census(api_key, year=yr)\n",
    "    \n",
    "    for tract in tracts:\n",
    "\n",
    "        census_data_loop = c2014_2018.acs5.get((variables), \n",
    "                         {'for': f\"tract:{tract}\", 'in': 'state:{} county:001'.format(states.DC.fips)})\n",
    "        \n",
    "        census_data_loop[0].update({\"year\": yr})\n",
    "        \n",
    "        converted_deserts_census_data.append(census_data_loop[0])\n",
    "        \n",
    "        converted_deserts_census_2014_2018df = pd.DataFrame(converted_deserts_census_data)\n",
    "\n",
    "        converted_deserts_census_2014_2018df = converted_deserts_census_2014_2018df.rename(columns=renamed_variables)\n",
    "        \n",
    "converted_deserts_census_2014_2018df \n",
    "\n",
    "\n",
    "                                     "
   ]
  },
  {
   "cell_type": "code",
   "execution_count": null,
   "metadata": {},
   "outputs": [],
   "source": [
    "converted_deserts_census_all_years_df = pd.concat([converted_deserts_census_2014_2018df,converted_deserts_census_2009_2013df])\n",
    "converted_deserts_census_all_years_df = converted_deserts_census_all_years_df.sort_values(['Name', 'year'])\n",
    "\n",
    "converted_deserts_census_all_years_df"
   ]
  },
  {
   "cell_type": "code",
   "execution_count": null,
   "metadata": {},
   "outputs": [],
   "source": []
  },
  {
   "cell_type": "code",
   "execution_count": null,
   "metadata": {},
   "outputs": [],
   "source": []
  },
  {
   "cell_type": "markdown",
   "metadata": {},
   "source": [
    "#Income and earnings estimates in the 2009-2013 ACS 5-year data set are inflation-adjusted to 2013 dollars.  Income and earnings estimates in the 2014-2018 ACS 5-year data set are inflation-adjusted to 2018 dollars.  To compare income estimates between the two, multiply the 2009-2013 dollar estimates by 1.07970803 (CPI-U-RS) in order to inflation-adjust 2013 dollars to 2018 dollars. The exception is the Comparative Economic Characteristics Profile (CP03) where all income and earnings dollar values are presented in 2018 inflation-adjusted dollars. Note that the Census Bureau inflation-adjusts microdata to arrive at the adjusted dollar values in CP03.  Data users will not be able to exactly replicate the CP03 2009-2013 inflation-adjusted values."
   ]
  }
 ],
 "metadata": {
  "kernelspec": {
   "display_name": "Python 3",
   "language": "python",
   "name": "python3"
  },
  "language_info": {
   "codemirror_mode": {
    "name": "ipython",
    "version": 3
   },
   "file_extension": ".py",
   "mimetype": "text/x-python",
   "name": "python",
   "nbconvert_exporter": "python",
   "pygments_lexer": "ipython3",
   "version": "3.7.6"
  }
 },
 "nbformat": 4,
 "nbformat_minor": 2
}
